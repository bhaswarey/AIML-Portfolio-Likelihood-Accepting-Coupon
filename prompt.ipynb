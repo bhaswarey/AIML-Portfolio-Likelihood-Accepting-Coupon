{
 "cells": [
  {
   "cell_type": "markdown",
   "metadata": {},
   "source": [
    "### Will a Customer Accept the Coupon?\n",
    "\n",
    "**Context**\n",
    "\n",
    "Imagine driving through town and a coupon is delivered to your cell phone for a restaraunt near where you are driving. Would you accept that coupon and take a short detour to the restaraunt? Would you accept the coupon but use it on a sunbsequent trip? Would you ignore the coupon entirely? What if the coupon was for a bar instead of a restaraunt? What about a coffee house? Would you accept a bar coupon with a minor passenger in the car? What about if it was just you and your partner in the car? Would weather impact the rate of acceptance? What about the time of day?\n",
    "\n",
    "Obviously, proximity to the business is a factor on whether the coupon is delivered to the driver or not, but what are the factors that determine whether a driver accepts the coupon once it is delivered to them? How would you determine whether a driver is likely to accept a coupon?\n",
    "\n",
    "**Overview**\n",
    "\n",
    "The goal of this project is to use what you know about visualizations and probability distributions to distinguish between customers who accepted a driving coupon versus those that did not.\n",
    "\n",
    "**Data**\n",
    "\n",
    "This data comes to us from the UCI Machine Learning repository and was collected via a survey on Amazon Mechanical Turk. The survey describes different driving scenarios including the destination, current time, weather, passenger, etc., and then ask the person whether he will accept the coupon if he is the driver. Answers that the user will drive there ‘right away’ or ‘later before the coupon expires’ are labeled as ‘Y = 1’ and answers ‘no, I do not want the coupon’ are labeled as ‘Y = 0’.  There are five different types of coupons -- less expensive restaurants (under \\\\$20), coffee houses, carry out & take away, bar, and more expensive restaurants (\\\\$20 - \\\\$50). "
   ]
  },
  {
   "cell_type": "markdown",
   "metadata": {},
   "source": [
    "**Deliverables**\n",
    "\n",
    "Your final product should be a brief report that highlights the differences between customers who did and did not accept the coupons.  To explore the data you will utilize your knowledge of plotting, statistical summaries, and visualization using Python. You will publish your findings in a public facing github repository as your first portfolio piece. \n",
    "\n",
    "\n",
    "\n"
   ]
  },
  {
   "cell_type": "markdown",
   "metadata": {},
   "source": [
    "### Data Description\n",
    "Keep in mind that these values mentioned below are average values.\n",
    "\n",
    "The attributes of this data set include:\n",
    "1. User attributes\n",
    "    -  Gender: male, female\n",
    "    -  Age: below 21, 21 to 25, 26 to 30, etc.\n",
    "    -  Marital Status: single, married partner, unmarried partner, or widowed\n",
    "    -  Number of children: 0, 1, or more than 1\n",
    "    -  Education: high school, bachelors degree, associates degree, or graduate degree\n",
    "    -  Occupation: architecture & engineering, business & financial, etc.\n",
    "    -  Annual income: less than \\\\$12500, \\\\$12500 - \\\\$24999, \\\\$25000 - \\\\$37499, etc.\n",
    "    -  Number of times that he/she goes to a bar: 0, less than 1, 1 to 3, 4 to 8 or greater than 8\n",
    "    -  Number of times that he/she buys takeaway food: 0, less than 1, 1 to 3, 4 to 8 or greater\n",
    "    than 8\n",
    "    -  Number of times that he/she goes to a coffee house: 0, less than 1, 1 to 3, 4 to 8 or\n",
    "    greater than 8\n",
    "    -  Number of times that he/she eats at a restaurant with average expense less than \\\\$20 per\n",
    "    person: 0, less than 1, 1 to 3, 4 to 8 or greater than 8\n",
    "    -  Number of times that he/she goes to a bar: 0, less than 1, 1 to 3, 4 to 8 or greater than 8\n",
    "    \n",
    "\n",
    "2. Contextual attributes\n",
    "    - Driving destination: home, work, or no urgent destination\n",
    "    - Location of user, coupon and destination: we provide a map to show the geographical\n",
    "    location of the user, destination, and the venue, and we mark the distance between each\n",
    "    two places with time of driving. The user can see whether the venue is in the same\n",
    "    direction as the destination.\n",
    "    - Weather: sunny, rainy, or snowy\n",
    "    - Temperature: 30F, 55F, or 80F\n",
    "    - Time: 10AM, 2PM, or 6PM\n",
    "    - Passenger: alone, partner, kid(s), or friend(s)\n",
    "\n",
    "\n",
    "3. Coupon attributes\n",
    "    - time before it expires: 2 hours or one day"
   ]
  },
  {
   "cell_type": "code",
   "execution_count": 1,
   "metadata": {},
   "outputs": [],
   "source": [
    "import matplotlib.pyplot as plt\n",
    "import seaborn as sns\n",
    "import pandas as pd\n",
    "import numpy as np\n",
    "from fractions import Fraction\n",
    "import warnings\n",
    "warnings.simplefilter(action='ignore', category=FutureWarning)\n",
    "\n"
   ]
  },
  {
   "cell_type": "markdown",
   "metadata": {},
   "source": [
    "### Problems\n",
    "\n",
    "Use the prompts below to get started with your data analysis.  \n",
    "\n",
    "1. Read in the `coupons.csv` file.\n",
    "\n",
    "\n"
   ]
  },
  {
   "cell_type": "code",
   "execution_count": 2,
   "metadata": {},
   "outputs": [],
   "source": [
    "pd.set_option('display.max_columns', None)\n",
    "pd.set_option('display.max_rows', None)\n",
    "\n",
    "\n",
    "data = pd.read_csv('data/coupons.csv')"
   ]
  },
  {
   "cell_type": "code",
   "execution_count": 3,
   "metadata": {},
   "outputs": [
    {
     "data": {
      "text/html": [
       "<div>\n",
       "<style scoped>\n",
       "    .dataframe tbody tr th:only-of-type {\n",
       "        vertical-align: middle;\n",
       "    }\n",
       "\n",
       "    .dataframe tbody tr th {\n",
       "        vertical-align: top;\n",
       "    }\n",
       "\n",
       "    .dataframe thead th {\n",
       "        text-align: right;\n",
       "    }\n",
       "</style>\n",
       "<table border=\"1\" class=\"dataframe\">\n",
       "  <thead>\n",
       "    <tr style=\"text-align: right;\">\n",
       "      <th></th>\n",
       "      <th>destination</th>\n",
       "      <th>passanger</th>\n",
       "      <th>weather</th>\n",
       "      <th>temperature</th>\n",
       "      <th>time</th>\n",
       "      <th>coupon</th>\n",
       "      <th>expiration</th>\n",
       "      <th>gender</th>\n",
       "      <th>age</th>\n",
       "      <th>maritalStatus</th>\n",
       "      <th>has_children</th>\n",
       "      <th>education</th>\n",
       "      <th>occupation</th>\n",
       "      <th>income</th>\n",
       "      <th>car</th>\n",
       "      <th>Bar</th>\n",
       "      <th>CoffeeHouse</th>\n",
       "      <th>CarryAway</th>\n",
       "      <th>RestaurantLessThan20</th>\n",
       "      <th>Restaurant20To50</th>\n",
       "      <th>toCoupon_GEQ5min</th>\n",
       "      <th>toCoupon_GEQ15min</th>\n",
       "      <th>toCoupon_GEQ25min</th>\n",
       "      <th>direction_same</th>\n",
       "      <th>direction_opp</th>\n",
       "      <th>Y</th>\n",
       "    </tr>\n",
       "  </thead>\n",
       "  <tbody>\n",
       "    <tr>\n",
       "      <th>0</th>\n",
       "      <td>No Urgent Place</td>\n",
       "      <td>Alone</td>\n",
       "      <td>Sunny</td>\n",
       "      <td>55</td>\n",
       "      <td>2PM</td>\n",
       "      <td>Restaurant(&lt;20)</td>\n",
       "      <td>1d</td>\n",
       "      <td>Female</td>\n",
       "      <td>21</td>\n",
       "      <td>Unmarried partner</td>\n",
       "      <td>1</td>\n",
       "      <td>Some college - no degree</td>\n",
       "      <td>Unemployed</td>\n",
       "      <td>$37500 - $49999</td>\n",
       "      <td>NaN</td>\n",
       "      <td>never</td>\n",
       "      <td>never</td>\n",
       "      <td>NaN</td>\n",
       "      <td>4~8</td>\n",
       "      <td>1~3</td>\n",
       "      <td>1</td>\n",
       "      <td>0</td>\n",
       "      <td>0</td>\n",
       "      <td>0</td>\n",
       "      <td>1</td>\n",
       "      <td>1</td>\n",
       "    </tr>\n",
       "    <tr>\n",
       "      <th>1</th>\n",
       "      <td>No Urgent Place</td>\n",
       "      <td>Friend(s)</td>\n",
       "      <td>Sunny</td>\n",
       "      <td>80</td>\n",
       "      <td>10AM</td>\n",
       "      <td>Coffee House</td>\n",
       "      <td>2h</td>\n",
       "      <td>Female</td>\n",
       "      <td>21</td>\n",
       "      <td>Unmarried partner</td>\n",
       "      <td>1</td>\n",
       "      <td>Some college - no degree</td>\n",
       "      <td>Unemployed</td>\n",
       "      <td>$37500 - $49999</td>\n",
       "      <td>NaN</td>\n",
       "      <td>never</td>\n",
       "      <td>never</td>\n",
       "      <td>NaN</td>\n",
       "      <td>4~8</td>\n",
       "      <td>1~3</td>\n",
       "      <td>1</td>\n",
       "      <td>0</td>\n",
       "      <td>0</td>\n",
       "      <td>0</td>\n",
       "      <td>1</td>\n",
       "      <td>0</td>\n",
       "    </tr>\n",
       "    <tr>\n",
       "      <th>2</th>\n",
       "      <td>No Urgent Place</td>\n",
       "      <td>Friend(s)</td>\n",
       "      <td>Sunny</td>\n",
       "      <td>80</td>\n",
       "      <td>10AM</td>\n",
       "      <td>Carry out &amp; Take away</td>\n",
       "      <td>2h</td>\n",
       "      <td>Female</td>\n",
       "      <td>21</td>\n",
       "      <td>Unmarried partner</td>\n",
       "      <td>1</td>\n",
       "      <td>Some college - no degree</td>\n",
       "      <td>Unemployed</td>\n",
       "      <td>$37500 - $49999</td>\n",
       "      <td>NaN</td>\n",
       "      <td>never</td>\n",
       "      <td>never</td>\n",
       "      <td>NaN</td>\n",
       "      <td>4~8</td>\n",
       "      <td>1~3</td>\n",
       "      <td>1</td>\n",
       "      <td>1</td>\n",
       "      <td>0</td>\n",
       "      <td>0</td>\n",
       "      <td>1</td>\n",
       "      <td>1</td>\n",
       "    </tr>\n",
       "    <tr>\n",
       "      <th>3</th>\n",
       "      <td>No Urgent Place</td>\n",
       "      <td>Friend(s)</td>\n",
       "      <td>Sunny</td>\n",
       "      <td>80</td>\n",
       "      <td>2PM</td>\n",
       "      <td>Coffee House</td>\n",
       "      <td>2h</td>\n",
       "      <td>Female</td>\n",
       "      <td>21</td>\n",
       "      <td>Unmarried partner</td>\n",
       "      <td>1</td>\n",
       "      <td>Some college - no degree</td>\n",
       "      <td>Unemployed</td>\n",
       "      <td>$37500 - $49999</td>\n",
       "      <td>NaN</td>\n",
       "      <td>never</td>\n",
       "      <td>never</td>\n",
       "      <td>NaN</td>\n",
       "      <td>4~8</td>\n",
       "      <td>1~3</td>\n",
       "      <td>1</td>\n",
       "      <td>1</td>\n",
       "      <td>0</td>\n",
       "      <td>0</td>\n",
       "      <td>1</td>\n",
       "      <td>0</td>\n",
       "    </tr>\n",
       "    <tr>\n",
       "      <th>4</th>\n",
       "      <td>No Urgent Place</td>\n",
       "      <td>Friend(s)</td>\n",
       "      <td>Sunny</td>\n",
       "      <td>80</td>\n",
       "      <td>2PM</td>\n",
       "      <td>Coffee House</td>\n",
       "      <td>1d</td>\n",
       "      <td>Female</td>\n",
       "      <td>21</td>\n",
       "      <td>Unmarried partner</td>\n",
       "      <td>1</td>\n",
       "      <td>Some college - no degree</td>\n",
       "      <td>Unemployed</td>\n",
       "      <td>$37500 - $49999</td>\n",
       "      <td>NaN</td>\n",
       "      <td>never</td>\n",
       "      <td>never</td>\n",
       "      <td>NaN</td>\n",
       "      <td>4~8</td>\n",
       "      <td>1~3</td>\n",
       "      <td>1</td>\n",
       "      <td>1</td>\n",
       "      <td>0</td>\n",
       "      <td>0</td>\n",
       "      <td>1</td>\n",
       "      <td>0</td>\n",
       "    </tr>\n",
       "  </tbody>\n",
       "</table>\n",
       "</div>"
      ],
      "text/plain": [
       "       destination  passanger weather  temperature  time  \\\n",
       "0  No Urgent Place      Alone   Sunny           55   2PM   \n",
       "1  No Urgent Place  Friend(s)   Sunny           80  10AM   \n",
       "2  No Urgent Place  Friend(s)   Sunny           80  10AM   \n",
       "3  No Urgent Place  Friend(s)   Sunny           80   2PM   \n",
       "4  No Urgent Place  Friend(s)   Sunny           80   2PM   \n",
       "\n",
       "                  coupon expiration  gender age      maritalStatus  \\\n",
       "0        Restaurant(<20)         1d  Female  21  Unmarried partner   \n",
       "1           Coffee House         2h  Female  21  Unmarried partner   \n",
       "2  Carry out & Take away         2h  Female  21  Unmarried partner   \n",
       "3           Coffee House         2h  Female  21  Unmarried partner   \n",
       "4           Coffee House         1d  Female  21  Unmarried partner   \n",
       "\n",
       "   has_children                 education  occupation           income  car  \\\n",
       "0             1  Some college - no degree  Unemployed  $37500 - $49999  NaN   \n",
       "1             1  Some college - no degree  Unemployed  $37500 - $49999  NaN   \n",
       "2             1  Some college - no degree  Unemployed  $37500 - $49999  NaN   \n",
       "3             1  Some college - no degree  Unemployed  $37500 - $49999  NaN   \n",
       "4             1  Some college - no degree  Unemployed  $37500 - $49999  NaN   \n",
       "\n",
       "     Bar CoffeeHouse CarryAway RestaurantLessThan20 Restaurant20To50  \\\n",
       "0  never       never       NaN                  4~8              1~3   \n",
       "1  never       never       NaN                  4~8              1~3   \n",
       "2  never       never       NaN                  4~8              1~3   \n",
       "3  never       never       NaN                  4~8              1~3   \n",
       "4  never       never       NaN                  4~8              1~3   \n",
       "\n",
       "   toCoupon_GEQ5min  toCoupon_GEQ15min  toCoupon_GEQ25min  direction_same  \\\n",
       "0                 1                  0                  0               0   \n",
       "1                 1                  0                  0               0   \n",
       "2                 1                  1                  0               0   \n",
       "3                 1                  1                  0               0   \n",
       "4                 1                  1                  0               0   \n",
       "\n",
       "   direction_opp  Y  \n",
       "0              1  1  \n",
       "1              1  0  \n",
       "2              1  1  \n",
       "3              1  0  \n",
       "4              1  0  "
      ]
     },
     "execution_count": 3,
     "metadata": {},
     "output_type": "execute_result"
    }
   ],
   "source": [
    "data.head()"
   ]
  },
  {
   "cell_type": "markdown",
   "metadata": {},
   "source": [
    "2. Investigate the dataset for missing or problematic data."
   ]
  },
  {
   "cell_type": "markdown",
   "metadata": {},
   "source": [
    "2.1 Information about the data types of columns in the data frame."
   ]
  },
  {
   "cell_type": "code",
   "execution_count": 4,
   "metadata": {},
   "outputs": [
    {
     "name": "stdout",
     "output_type": "stream",
     "text": [
      "<class 'pandas.core.frame.DataFrame'>\n",
      "RangeIndex: 12684 entries, 0 to 12683\n",
      "Data columns (total 26 columns):\n",
      " #   Column                Non-Null Count  Dtype \n",
      "---  ------                --------------  ----- \n",
      " 0   destination           12684 non-null  object\n",
      " 1   passanger             12684 non-null  object\n",
      " 2   weather               12684 non-null  object\n",
      " 3   temperature           12684 non-null  int64 \n",
      " 4   time                  12684 non-null  object\n",
      " 5   coupon                12684 non-null  object\n",
      " 6   expiration            12684 non-null  object\n",
      " 7   gender                12684 non-null  object\n",
      " 8   age                   12684 non-null  object\n",
      " 9   maritalStatus         12684 non-null  object\n",
      " 10  has_children          12684 non-null  int64 \n",
      " 11  education             12684 non-null  object\n",
      " 12  occupation            12684 non-null  object\n",
      " 13  income                12684 non-null  object\n",
      " 14  car                   108 non-null    object\n",
      " 15  Bar                   12577 non-null  object\n",
      " 16  CoffeeHouse           12467 non-null  object\n",
      " 17  CarryAway             12533 non-null  object\n",
      " 18  RestaurantLessThan20  12554 non-null  object\n",
      " 19  Restaurant20To50      12495 non-null  object\n",
      " 20  toCoupon_GEQ5min      12684 non-null  int64 \n",
      " 21  toCoupon_GEQ15min     12684 non-null  int64 \n",
      " 22  toCoupon_GEQ25min     12684 non-null  int64 \n",
      " 23  direction_same        12684 non-null  int64 \n",
      " 24  direction_opp         12684 non-null  int64 \n",
      " 25  Y                     12684 non-null  int64 \n",
      "dtypes: int64(8), object(18)\n",
      "memory usage: 2.5+ MB\n"
     ]
    }
   ],
   "source": [
    "data.info()"
   ]
  },
  {
   "cell_type": "code",
   "execution_count": 5,
   "metadata": {},
   "outputs": [
    {
     "data": {
      "text/plain": [
       "(12684, 26)"
      ]
     },
     "execution_count": 5,
     "metadata": {},
     "output_type": "execute_result"
    }
   ],
   "source": [
    "data.shape"
   ]
  },
  {
   "cell_type": "code",
   "execution_count": 6,
   "metadata": {},
   "outputs": [
    {
     "data": {
      "text/html": [
       "<div>\n",
       "<style scoped>\n",
       "    .dataframe tbody tr th:only-of-type {\n",
       "        vertical-align: middle;\n",
       "    }\n",
       "\n",
       "    .dataframe tbody tr th {\n",
       "        vertical-align: top;\n",
       "    }\n",
       "\n",
       "    .dataframe thead th {\n",
       "        text-align: right;\n",
       "    }\n",
       "</style>\n",
       "<table border=\"1\" class=\"dataframe\">\n",
       "  <thead>\n",
       "    <tr style=\"text-align: right;\">\n",
       "      <th></th>\n",
       "      <th>temperature</th>\n",
       "      <th>has_children</th>\n",
       "      <th>toCoupon_GEQ5min</th>\n",
       "      <th>toCoupon_GEQ15min</th>\n",
       "      <th>toCoupon_GEQ25min</th>\n",
       "      <th>direction_same</th>\n",
       "      <th>direction_opp</th>\n",
       "      <th>Y</th>\n",
       "    </tr>\n",
       "  </thead>\n",
       "  <tbody>\n",
       "    <tr>\n",
       "      <th>count</th>\n",
       "      <td>12684.000000</td>\n",
       "      <td>12684.000000</td>\n",
       "      <td>12684.0</td>\n",
       "      <td>12684.000000</td>\n",
       "      <td>12684.000000</td>\n",
       "      <td>12684.000000</td>\n",
       "      <td>12684.000000</td>\n",
       "      <td>12684.000000</td>\n",
       "    </tr>\n",
       "    <tr>\n",
       "      <th>mean</th>\n",
       "      <td>63.301798</td>\n",
       "      <td>0.414144</td>\n",
       "      <td>1.0</td>\n",
       "      <td>0.561495</td>\n",
       "      <td>0.119126</td>\n",
       "      <td>0.214759</td>\n",
       "      <td>0.785241</td>\n",
       "      <td>0.568433</td>\n",
       "    </tr>\n",
       "    <tr>\n",
       "      <th>std</th>\n",
       "      <td>19.154486</td>\n",
       "      <td>0.492593</td>\n",
       "      <td>0.0</td>\n",
       "      <td>0.496224</td>\n",
       "      <td>0.323950</td>\n",
       "      <td>0.410671</td>\n",
       "      <td>0.410671</td>\n",
       "      <td>0.495314</td>\n",
       "    </tr>\n",
       "    <tr>\n",
       "      <th>min</th>\n",
       "      <td>30.000000</td>\n",
       "      <td>0.000000</td>\n",
       "      <td>1.0</td>\n",
       "      <td>0.000000</td>\n",
       "      <td>0.000000</td>\n",
       "      <td>0.000000</td>\n",
       "      <td>0.000000</td>\n",
       "      <td>0.000000</td>\n",
       "    </tr>\n",
       "    <tr>\n",
       "      <th>25%</th>\n",
       "      <td>55.000000</td>\n",
       "      <td>0.000000</td>\n",
       "      <td>1.0</td>\n",
       "      <td>0.000000</td>\n",
       "      <td>0.000000</td>\n",
       "      <td>0.000000</td>\n",
       "      <td>1.000000</td>\n",
       "      <td>0.000000</td>\n",
       "    </tr>\n",
       "    <tr>\n",
       "      <th>50%</th>\n",
       "      <td>80.000000</td>\n",
       "      <td>0.000000</td>\n",
       "      <td>1.0</td>\n",
       "      <td>1.000000</td>\n",
       "      <td>0.000000</td>\n",
       "      <td>0.000000</td>\n",
       "      <td>1.000000</td>\n",
       "      <td>1.000000</td>\n",
       "    </tr>\n",
       "    <tr>\n",
       "      <th>75%</th>\n",
       "      <td>80.000000</td>\n",
       "      <td>1.000000</td>\n",
       "      <td>1.0</td>\n",
       "      <td>1.000000</td>\n",
       "      <td>0.000000</td>\n",
       "      <td>0.000000</td>\n",
       "      <td>1.000000</td>\n",
       "      <td>1.000000</td>\n",
       "    </tr>\n",
       "    <tr>\n",
       "      <th>max</th>\n",
       "      <td>80.000000</td>\n",
       "      <td>1.000000</td>\n",
       "      <td>1.0</td>\n",
       "      <td>1.000000</td>\n",
       "      <td>1.000000</td>\n",
       "      <td>1.000000</td>\n",
       "      <td>1.000000</td>\n",
       "      <td>1.000000</td>\n",
       "    </tr>\n",
       "  </tbody>\n",
       "</table>\n",
       "</div>"
      ],
      "text/plain": [
       "        temperature  has_children  toCoupon_GEQ5min  toCoupon_GEQ15min  \\\n",
       "count  12684.000000  12684.000000           12684.0       12684.000000   \n",
       "mean      63.301798      0.414144               1.0           0.561495   \n",
       "std       19.154486      0.492593               0.0           0.496224   \n",
       "min       30.000000      0.000000               1.0           0.000000   \n",
       "25%       55.000000      0.000000               1.0           0.000000   \n",
       "50%       80.000000      0.000000               1.0           1.000000   \n",
       "75%       80.000000      1.000000               1.0           1.000000   \n",
       "max       80.000000      1.000000               1.0           1.000000   \n",
       "\n",
       "       toCoupon_GEQ25min  direction_same  direction_opp             Y  \n",
       "count       12684.000000    12684.000000   12684.000000  12684.000000  \n",
       "mean            0.119126        0.214759       0.785241      0.568433  \n",
       "std             0.323950        0.410671       0.410671      0.495314  \n",
       "min             0.000000        0.000000       0.000000      0.000000  \n",
       "25%             0.000000        0.000000       1.000000      0.000000  \n",
       "50%             0.000000        0.000000       1.000000      1.000000  \n",
       "75%             0.000000        0.000000       1.000000      1.000000  \n",
       "max             1.000000        1.000000       1.000000      1.000000  "
      ]
     },
     "execution_count": 6,
     "metadata": {},
     "output_type": "execute_result"
    }
   ],
   "source": [
    "data.describe()"
   ]
  },
  {
   "cell_type": "markdown",
   "metadata": {},
   "source": [
    "2.2 Unique values in each column of type 'object' in the data frame."
   ]
  },
  {
   "cell_type": "code",
   "execution_count": 7,
   "metadata": {},
   "outputs": [
    {
     "data": {
      "text/plain": [
       "destination                                 [No Urgent Place, Home, Work]\n",
       "passanger                             [Alone, Friend(s), Kid(s), Partner]\n",
       "weather                                             [Sunny, Rainy, Snowy]\n",
       "time                                          [2PM, 10AM, 6PM, 7AM, 10PM]\n",
       "coupon                  [Restaurant(<20), Coffee House, Carry out & Ta...\n",
       "expiration                                                       [1d, 2h]\n",
       "gender                                                     [Female, Male]\n",
       "age                             [21, 46, 26, 31, 41, 50plus, 36, below21]\n",
       "maritalStatus           [Unmarried partner, Single, Married partner, D...\n",
       "education               [Some college - no degree, Bachelors degree, A...\n",
       "occupation              [Unemployed, Architecture & Engineering, Stude...\n",
       "income                  [$37500 - $49999, $62500 - $74999, $12500 - $2...\n",
       "car                     [nan, Scooter and motorcycle, crossover, Mazda...\n",
       "Bar                                    [never, less1, 1~3, gt8, nan, 4~8]\n",
       "CoffeeHouse                            [never, less1, 4~8, 1~3, gt8, nan]\n",
       "CarryAway                              [nan, 4~8, 1~3, gt8, less1, never]\n",
       "RestaurantLessThan20                   [4~8, 1~3, less1, gt8, nan, never]\n",
       "Restaurant20To50                       [1~3, less1, never, gt8, 4~8, nan]\n",
       "dtype: object"
      ]
     },
     "execution_count": 7,
     "metadata": {},
     "output_type": "execute_result"
    }
   ],
   "source": [
    "\n",
    "data.apply(lambda col: col.unique() if col.dtype == 'object' else None).dropna() \n",
    "\n"
   ]
  },
  {
   "cell_type": "markdown",
   "metadata": {},
   "source": [
    "2.3 Find missing values in the data frame"
   ]
  },
  {
   "cell_type": "code",
   "execution_count": 8,
   "metadata": {},
   "outputs": [
    {
     "data": {
      "text/plain": [
       "car                     12576\n",
       "Bar                       107\n",
       "CoffeeHouse               217\n",
       "CarryAway                 151\n",
       "RestaurantLessThan20      130\n",
       "Restaurant20To50          189\n",
       "dtype: int64"
      ]
     },
     "execution_count": 8,
     "metadata": {},
     "output_type": "execute_result"
    }
   ],
   "source": [
    "# Only show columns that have missing values\n",
    "(lambda col: data[col].isnull().sum())(data.columns[data.isnull().any()].tolist())"
   ]
  },
  {
   "cell_type": "markdown",
   "metadata": {},
   "source": [
    "2.4 Address problematic data\n",
    "\n",
    "Following data attributes need to be treated:\n",
    "\n",
    "a) passanger - convert \"Kid(s)\" -> \"Kid\" & \"Friend(s)\" -> Friend\n",
    "\n",
    "b) time - convert AM/PM format to military (24-hour) time (integer).\n",
    "\n",
    "c) expiration - convert from day to hours (integer)\n",
    "\n",
    "d) age - normalize to integers\n",
    "\n",
    "e) income - for each range convert the average (integer)\n",
    "\n",
    "f) Bar/CoffeeHouse/ResturantLessThan20/Resturant20To50 - convert to integers\n",
    "\n",
    "g) Shorten occupation strings\n"
   ]
  },
  {
   "cell_type": "code",
   "execution_count": 9,
   "metadata": {},
   "outputs": [],
   "source": [
    "## a) passanger - convert \"Kid(s)\" -> \"Kid\" & \"Friend(s)\" -> Friend\n",
    "\n",
    "data['passanger'] = data['passanger'].str.replace('(s)','')\n"
   ]
  },
  {
   "cell_type": "code",
   "execution_count": 10,
   "metadata": {},
   "outputs": [],
   "source": [
    "## b) time - convert AM/PM format to military (24-hour) time (integer)\n",
    "\n",
    "dict = {'2PM':14, '10AM':10, '6PM':18, '7AM':7, '10PM':22}\n",
    "data.replace({'time': dict},inplace=True)\n"
   ]
  },
  {
   "cell_type": "code",
   "execution_count": 11,
   "metadata": {},
   "outputs": [],
   "source": [
    "## c) expiration - convert from day to hours (integer)\n",
    "\n",
    "data.replace(({'expiration': {'1d':24,'2h':2}}), inplace=True);\n"
   ]
  },
  {
   "cell_type": "code",
   "execution_count": 12,
   "metadata": {},
   "outputs": [],
   "source": [
    "## d) age - normalize to integers\n",
    "\n",
    "data.replace(({'age': {'50plus':51,'below21':20}}), inplace=True);\n",
    "data['age'] = pd.to_numeric(data['age'])\n"
   ]
  },
  {
   "cell_type": "code",
   "execution_count": 13,
   "metadata": {},
   "outputs": [],
   "source": [
    "## e) income - for each range convert the average (integer); used data['income'].value_counts().reset_index() to find the ranges.\n",
    "## Note: Income is in thousands\n",
    "dict = {'$25000 - $37499':31, '$12500 - $24999':18, '$37500 - $49999':43, '$100000 or More':100, \\\n",
    "        '$50000 - $62499':56, 'Less than $12500':12, '$87500 - $99999':93, '$75000 - $87499':81, '$62500 - $74999':68}\n",
    "data.replace({'income': dict},inplace=True)"
   ]
  },
  {
   "cell_type": "code",
   "execution_count": 14,
   "metadata": {},
   "outputs": [],
   "source": [
    "## f) Bar/CoffeeHouse/ResturantLessThan20/Resturant20To50 - convert to integers\n",
    "dict = {'never':0, 'less1':1, '1~3':2, 'gt8':9, '4~8':6}\n",
    "list(map(lambda col: data.replace({col:dict},inplace=True), ['Bar', 'CoffeeHouse', 'CarryAway', 'RestaurantLessThan20', 'Restaurant20To50']) );"
   ]
  },
  {
   "cell_type": "code",
   "execution_count": 15,
   "metadata": {},
   "outputs": [],
   "source": [
    "## g) Shorten occupation strings\n",
    "dict = {'Computer & Mathematical':'ComMath', 'Education&Training&Library':'EduTrainLib', 'Office & Administrative Support':'OffAdminSupp', \\\n",
    "        'Arts Design Entertainment Sports & Media':'ArtDesignEntSportMedia', 'Food Preparation & Serving Related':'FoodPrepServRel', \\\n",
    "        'Healthcare Practitioners & Technical':'HealthPractTech', 'Community & Social Services':'ComSocialSvc', \\\n",
    "        'Transportation & Material Moving':'TransMaterialMov', 'Architecture & Engineering':'ArchEng', 'Life Physical Social Science':'LifePhyScoSci', \\\n",
    "        'Construction & Extraction':'ConstExt', 'Personal Care & Service':'PerCareSvc', 'Installation Maintenance & Repair':'InstallMainRep', \\\n",
    "        'Production Occupations':'ProdOccup', 'Building & Grounds Cleaning & Maintenance':'BldGrdCleanMain', 'Farming Fishing & Forestry':'FarmFishForest', \\\n",
    "        'Sales & Related':'SaleRelated'}\n",
    "data.replace({'occupation':dict},inplace=True);"
   ]
  },
  {
   "cell_type": "code",
   "execution_count": 16,
   "metadata": {},
   "outputs": [
    {
     "data": {
      "text/plain": [
       "destination                                 [No Urgent Place, Home, Work]\n",
       "passanger                                   [Alone, Friend, Kid, Partner]\n",
       "weather                                             [Sunny, Rainy, Snowy]\n",
       "temperature                                                  [55, 80, 30]\n",
       "time                                                  [14, 10, 18, 7, 22]\n",
       "coupon                  [Restaurant(<20), Coffee House, Carry out & Ta...\n",
       "expiration                                                        [24, 2]\n",
       "gender                                                     [Female, Male]\n",
       "age                                      [21, 46, 26, 31, 41, 51, 36, 20]\n",
       "maritalStatus           [Unmarried partner, Single, Married partner, D...\n",
       "has_children                                                       [1, 0]\n",
       "education               [Some college - no degree, Bachelors degree, A...\n",
       "occupation              [Unemployed, ArchEng, Student, EduTrainLib, He...\n",
       "income                              [43, 68, 18, 81, 56, 31, 100, 93, 12]\n",
       "car                     [nan, Scooter and motorcycle, crossover, Mazda...\n",
       "Bar                                        [0.0, 1.0, 2.0, 9.0, nan, 6.0]\n",
       "CoffeeHouse                                [0.0, 1.0, 6.0, 2.0, 9.0, nan]\n",
       "CarryAway                                  [nan, 6.0, 2.0, 9.0, 1.0, 0.0]\n",
       "RestaurantLessThan20                       [6.0, 2.0, 1.0, 9.0, nan, 0.0]\n",
       "Restaurant20To50                           [2.0, 1.0, 0.0, 9.0, 6.0, nan]\n",
       "toCoupon_GEQ5min                                                      [1]\n",
       "toCoupon_GEQ15min                                                  [0, 1]\n",
       "toCoupon_GEQ25min                                                  [0, 1]\n",
       "direction_same                                                     [0, 1]\n",
       "direction_opp                                                      [1, 0]\n",
       "Y                                                                  [1, 0]\n",
       "dtype: object"
      ]
     },
     "execution_count": 16,
     "metadata": {},
     "output_type": "execute_result"
    }
   ],
   "source": [
    "## Check to make sure transformation has been completed successfully\n",
    "data.apply(lambda col: col.unique())"
   ]
  },
  {
   "cell_type": "markdown",
   "metadata": {},
   "source": [
    "3. Decide what to do about your missing data -- drop, replace, other..."
   ]
  },
  {
   "cell_type": "markdown",
   "metadata": {},
   "source": [
    "3.1 Determine the missing values in percentage per column\n",
    "\n",
    "The strategy of addressing missing values is as follows:\n",
    "\n",
    "a) If the percentage of missing values, per column, is >= 70%, then we will drop the entire column.\n",
    "\n",
    "b) If the percentage of missing values, per column, is < 30%, then keep the column and evaluate.\n",
    "\n",
    "c) For columns with missing values > 10%, the values will be filled using interpolation technique or mean or media or mode. Will depend on the data charastics. \n",
    "\n",
    "d) For columns with missing data <= 10%, the associated row will simply be dropped."
   ]
  },
  {
   "cell_type": "code",
   "execution_count": 17,
   "metadata": {},
   "outputs": [
    {
     "name": "stdout",
     "output_type": "stream",
     "text": [
      "car                     99.15\n",
      "Bar                      0.84\n",
      "CoffeeHouse              1.71\n",
      "CarryAway                1.19\n",
      "RestaurantLessThan20     1.02\n",
      "Restaurant20To50         1.49\n",
      "dtype: float64\n"
     ]
    }
   ],
   "source": [
    "# Show the percentage of missing values per column\n",
    "\n",
    "(lambda col: print( (data[col].isnull().mean().mul(100).round(2)) ) ) \\\n",
    " (data.columns[data.isnull().any()].tolist())\n"
   ]
  },
  {
   "cell_type": "markdown",
   "metadata": {},
   "source": [
    "3.2 Data treatment \n",
    "\n",
    "Base on the percent of missing data shown in section 3.2, The \"car\" column will be dropped and for columns that have missing values <= 10%, the associated rows containing missing values will be dropped."
   ]
  },
  {
   "cell_type": "code",
   "execution_count": 18,
   "metadata": {},
   "outputs": [],
   "source": [
    "data.drop('car', axis=1, inplace=True)\n"
   ]
  },
  {
   "cell_type": "code",
   "execution_count": 19,
   "metadata": {},
   "outputs": [],
   "source": [
    "data.dropna(how='any', axis=0, inplace=True) "
   ]
  },
  {
   "cell_type": "code",
   "execution_count": null,
   "metadata": {},
   "outputs": [],
   "source": []
  },
  {
   "cell_type": "markdown",
   "metadata": {},
   "source": [
    "3.3 Validate data is clean"
   ]
  },
  {
   "cell_type": "code",
   "execution_count": 20,
   "metadata": {},
   "outputs": [
    {
     "data": {
      "text/plain": [
       "Series([], dtype: float64)"
      ]
     },
     "execution_count": 20,
     "metadata": {},
     "output_type": "execute_result"
    }
   ],
   "source": [
    "#Make sure there are no nulls/nan\n",
    "(lambda col: data[col].isnull().sum())(data.columns[data.isnull().any()].tolist())"
   ]
  },
  {
   "cell_type": "code",
   "execution_count": null,
   "metadata": {},
   "outputs": [],
   "source": []
  },
  {
   "cell_type": "markdown",
   "metadata": {},
   "source": [
    "3.5 Evaluate data post cleaning & transformation\n",
    "\n",
    "Note: The original dataframe was 12683 rows x 26 columns "
   ]
  },
  {
   "cell_type": "code",
   "execution_count": 21,
   "metadata": {},
   "outputs": [
    {
     "data": {
      "text/plain": [
       "destination             0\n",
       "passanger               0\n",
       "weather                 0\n",
       "temperature             0\n",
       "time                    0\n",
       "coupon                  0\n",
       "expiration              0\n",
       "gender                  0\n",
       "age                     0\n",
       "maritalStatus           0\n",
       "has_children            0\n",
       "education               0\n",
       "occupation              0\n",
       "income                  0\n",
       "Bar                     0\n",
       "CoffeeHouse             0\n",
       "CarryAway               0\n",
       "RestaurantLessThan20    0\n",
       "Restaurant20To50        0\n",
       "toCoupon_GEQ5min        0\n",
       "toCoupon_GEQ15min       0\n",
       "toCoupon_GEQ25min       0\n",
       "direction_same          0\n",
       "direction_opp           0\n",
       "Y                       0\n",
       "dtype: int64"
      ]
     },
     "execution_count": 21,
     "metadata": {},
     "output_type": "execute_result"
    }
   ],
   "source": [
    "data.isnull().sum()"
   ]
  },
  {
   "cell_type": "code",
   "execution_count": 22,
   "metadata": {},
   "outputs": [
    {
     "name": "stdout",
     "output_type": "stream",
     "text": [
      "<class 'pandas.core.frame.DataFrame'>\n",
      "Index: 12079 entries, 22 to 12683\n",
      "Data columns (total 25 columns):\n",
      " #   Column                Non-Null Count  Dtype  \n",
      "---  ------                --------------  -----  \n",
      " 0   destination           12079 non-null  object \n",
      " 1   passanger             12079 non-null  object \n",
      " 2   weather               12079 non-null  object \n",
      " 3   temperature           12079 non-null  int64  \n",
      " 4   time                  12079 non-null  int64  \n",
      " 5   coupon                12079 non-null  object \n",
      " 6   expiration            12079 non-null  int64  \n",
      " 7   gender                12079 non-null  object \n",
      " 8   age                   12079 non-null  int64  \n",
      " 9   maritalStatus         12079 non-null  object \n",
      " 10  has_children          12079 non-null  int64  \n",
      " 11  education             12079 non-null  object \n",
      " 12  occupation            12079 non-null  object \n",
      " 13  income                12079 non-null  int64  \n",
      " 14  Bar                   12079 non-null  float64\n",
      " 15  CoffeeHouse           12079 non-null  float64\n",
      " 16  CarryAway             12079 non-null  float64\n",
      " 17  RestaurantLessThan20  12079 non-null  float64\n",
      " 18  Restaurant20To50      12079 non-null  float64\n",
      " 19  toCoupon_GEQ5min      12079 non-null  int64  \n",
      " 20  toCoupon_GEQ15min     12079 non-null  int64  \n",
      " 21  toCoupon_GEQ25min     12079 non-null  int64  \n",
      " 22  direction_same        12079 non-null  int64  \n",
      " 23  direction_opp         12079 non-null  int64  \n",
      " 24  Y                     12079 non-null  int64  \n",
      "dtypes: float64(5), int64(12), object(8)\n",
      "memory usage: 2.4+ MB\n"
     ]
    }
   ],
   "source": [
    "#Examine data post null clean up and transformations. Expect to see no nan and the transformed attributes are either int64 or float64.\n",
    "data.info()"
   ]
  },
  {
   "cell_type": "code",
   "execution_count": 84,
   "metadata": {},
   "outputs": [
    {
     "name": "stdout",
     "output_type": "stream",
     "text": [
      "Dimentions of cleaned dataframe: \u001b[1m\u001b[3m\u001b[4m(12079, 25)\u001b[0m\n",
      "As part of the cleaning process, number of rows are reduced by: \u001b[1m\u001b[3m\u001b[4m4.76%\u001b[0m\n"
     ]
    }
   ],
   "source": [
    "# Validate dataframe dimentions have changed. Note: originally the dataframe length was 12683 rows.\n",
    "\n",
    "print (\"Dimentions of cleaned dataframe: \\033[1m\\033[3m\\033[4m\" + str(data.shape)+ '\\033[0m');\n",
    "print (\"As part of the cleaning process, number of rows are reduced by: \\033[1m\\033[3m\\033[4m\" + format(((12683 - data.shape[0])/12683),\".2%\")+ '\\033[0m');"
   ]
  },
  {
   "cell_type": "markdown",
   "metadata": {},
   "source": []
  },
  {
   "cell_type": "markdown",
   "metadata": {},
   "source": [
    "4. What proportion of the total observations chose to accept the coupon? \n",
    "\n"
   ]
  },
  {
   "cell_type": "code",
   "execution_count": 85,
   "metadata": {},
   "outputs": [
    {
     "name": "stdout",
     "output_type": "stream",
     "text": [
      "The total number of observers who chose to accept the coupon are: \u001b[1m\u001b[3m\u001b[4m6877\u001b[0m\n",
      "The total number of observers who did not chose to accept the coupon are: \u001b[1m\u001b[3m\u001b[4m5202\u001b[0m\n",
      "The portion of observers that chose to accept the coupon are: \u001b[1m\u001b[3m\u001b[4m56.93%\u001b[0m\n"
     ]
    }
   ],
   "source": [
    "print(\"The total number of observers who chose to accept the coupon are: \\033[1m\\033[3m\\033[4m\" + str(data['Y'].value_counts()[1])+ '\\033[0m')\n",
    "print(\"The total number of observers who did not chose to accept the coupon are: \\033[1m\\033[3m\\033[4m\" + str(data['Y'].value_counts()[0])+ '\\033[0m')\n",
    "print(\"The portion of observers that chose to accept the coupon are: \\033[1m\\033[3m\\033[4m\" + \\\n",
    "      format(data['Y'].value_counts()[1] / data.shape[0],\".2%\")+ '\\033[0m')\n",
    "\n"
   ]
  },
  {
   "cell_type": "markdown",
   "metadata": {},
   "source": []
  },
  {
   "cell_type": "markdown",
   "metadata": {},
   "source": [
    "5. Use a bar plot to visualize the `coupon` column."
   ]
  },
  {
   "cell_type": "markdown",
   "metadata": {},
   "source": [
    "5.1 Offers across different types of coupons"
   ]
  },
  {
   "cell_type": "code",
   "execution_count": 129,
   "metadata": {},
   "outputs": [
    {
     "data": {
      "image/png": "[encoded data removed]",
      "text/plain": [
       "<Figure size 640x480 with 1 Axes>"
      ]
     },
     "metadata": {},
     "output_type": "display_data"
    }
   ],
   "source": [
    "df = data.groupby(['coupon']).size()\n",
    "ax = df.plot(kind='bar',color=['mediumaquamarine', \"aquamarine\", \"lightblue\", \"lightseagreen\", 'seagreen'],\\\n",
    "            xlabel=\"Coupon Types\", ylabel=\"Participants\", title=\"Number of coupons by type\")\n",
    "for container in ax.containers:\n",
    "    ax.bar_label(container)\n",
    "\n",
    "plt.savefig('images/bar_coupon_types_dist.png')\n"
   ]
  },
  {
   "cell_type": "code",
   "execution_count": null,
   "metadata": {},
   "outputs": [],
   "source": []
  },
  {
   "cell_type": "markdown",
   "metadata": {},
   "source": [
    "5.2 Accepted/rejected offers across different coupon types "
   ]
  },
  {
   "cell_type": "code",
   "execution_count": 130,
   "metadata": {},
   "outputs": [
    {
     "data": {
      "image/png": "[encoded data removed]",
      "text/plain": [
       "<Figure size 614.75x500 with 1 Axes>"
      ]
     },
     "metadata": {},
     "output_type": "display_data"
    }
   ],
   "source": [
    "\n",
    "df = pd.merge( data[data['Y']==1].groupby(['coupon']).size().to_frame(), \\\n",
    "               data[data['Y']==0].groupby(['coupon']).size().to_frame(), \\\n",
    "                left_on='coupon', right_on='coupon', how='outer')\n",
    "df.rename(columns = {'0_x':'Accepted', '0_y':'Rejected'}, inplace=True);\n",
    "df.reset_index(inplace=True)\n",
    "dfm = pd.melt(df, id_vars='coupon', var_name='Offer', value_name='Count')\n",
    "\n",
    "for container in ax.containers:\n",
    "    ax.bar_label(container)\n",
    "grid = sns.catplot(x='coupon', y='Count', hue='Offer', data=dfm, kind='bar', \\\n",
    "                 height=5, aspect=1, palette=[\"seagreen\", \"darkred\"])\n",
    "ax = grid.axes[0, 0]\n",
    "for container in ax.containers:\n",
    "    ax.bar_label(container)\n",
    "plt.xlabel(\"Coupon Types\") \n",
    "plt.xticks(rotation=90) \n",
    "plt.ylabel(\"Participants\") \n",
    "plt.title('Accepted/rejected offers base on coupon type')\n",
    "\n",
    "plt.savefig('images/bar_accept_reject_coupon_types_dist.png')"
   ]
  },
  {
   "cell_type": "markdown",
   "metadata": {},
   "source": []
  },
  {
   "cell_type": "markdown",
   "metadata": {},
   "source": [
    "6. Use a histogram to visualize the temperature column."
   ]
  },
  {
   "cell_type": "code",
   "execution_count": 131,
   "metadata": {},
   "outputs": [
    {
     "data": {
      "image/png": "[encoded data removed]",
      "text/plain": [
       "<Figure size 640x480 with 1 Axes>"
      ]
     },
     "metadata": {},
     "output_type": "display_data"
    }
   ],
   "source": [
    "\n",
    "ax = data.plot.hist(column='temperature', color = 'gray', edgecolor='darkred')\n",
    "ax.set_xlabel(\"Temprature in Fahrenheit\")\n",
    "ax.set_ylabel(\"Count\")\n",
    "ax.set_title(\"Temprature Distribution\")\n",
    "for c in ax.containers:\n",
    "    labels = [f'{h:0.1f}' if (h := v.get_height()) != 0 else '' for v in c ]\n",
    "    ax.bar_label(c, labels=labels, fontsize=8, padding=3)\n",
    "\n",
    "plt.savefig('images/hist_temperature.png')\n"
   ]
  },
  {
   "cell_type": "code",
   "execution_count": 132,
   "metadata": {},
   "outputs": [
    {
     "data": {
      "image/png": "[encoded data removed]",
      "text/plain": [
       "<Figure size 1000x1200 with 1 Axes>"
      ]
     },
     "metadata": {},
     "output_type": "display_data"
    }
   ],
   "source": [
    "fig, ax = plt.subplots(figsize=(10, 12))\n",
    "\n",
    "ax = sns.histplot(data=data, x='temperature', hue='coupon', ax=ax,  alpha=0.5,fill=False, edgecolor='lightgray')\n",
    "ax.set_title(\"Temprature Vs Coupon Offered \")\n",
    "ax.set_xlabel(\"Temprate in Fahrenheit\")\n",
    "ax.set_ylabel(\"Coupons Offered\")\n",
    "for c in ax.containers:\n",
    "    labels = [f'{h:0}' if (h := v.get_height()) != 0 else '' for v in c ]\n",
    "    ax.bar_label(c, labels=labels, fontsize=8, padding=3)\n",
    "plt.savefig('images/hist_temperature_coupons_types.png')"
   ]
  },
  {
   "cell_type": "code",
   "execution_count": 133,
   "metadata": {},
   "outputs": [
    {
     "data": {
      "image/png": "[encoded data removed]",
      "text/plain": [
       "<Figure size 1000x800 with 1 Axes>"
      ]
     },
     "metadata": {},
     "output_type": "display_data"
    }
   ],
   "source": [
    "fig, ax = plt.subplots(figsize=(10, 8))\n",
    "sns.histplot(data=data, x='temperature', hue='Y', alpha=0.5,  edgecolor='lightgray', palette=[\"lightgreen\", \"blue\"], ax=ax)\n",
    "ax.set_title(\"Temprature Vs Coupon Accepted/Declines\")\n",
    "ax.set_xlabel(\"Temprature in Fahrenheit\")\n",
    "ax.set_ylabel(\"Coupons Offered\")\n",
    "for c in ax.containers:\n",
    "    labels = [f'{h:0}' if (h := v.get_height()) != 0 else '' for v in c ]\n",
    "    ax.bar_label(c, labels=labels, fontsize=8, padding=3)\n",
    "plt.savefig('images/hist_temperature_accept_reject.png')"
   ]
  },
  {
   "cell_type": "code",
   "execution_count": null,
   "metadata": {},
   "outputs": [],
   "source": []
  },
  {
   "cell_type": "markdown",
   "metadata": {},
   "source": [
    "**Investigating the Bar Coupons**\n",
    "\n",
    "Now, we will lead you through an exploration of just the bar related coupons.  \n",
    "\n",
    "1. Create a new `DataFrame` that contains just the bar coupons.\n"
   ]
  },
  {
   "cell_type": "code",
   "execution_count": 30,
   "metadata": {},
   "outputs": [],
   "source": [
    "bar_df = data.query(\"coupon == 'Bar'\").copy(deep = True)\n"
   ]
  },
  {
   "cell_type": "markdown",
   "metadata": {},
   "source": [
    "2. What proportion of bar coupons were accepted?\n"
   ]
  },
  {
   "cell_type": "code",
   "execution_count": 87,
   "metadata": {},
   "outputs": [
    {
     "name": "stdout",
     "output_type": "stream",
     "text": [
      "The portion of bar coupons that were accepted are: \u001b[1m\u001b[3m\u001b[4m6.52%\u001b[0m\n"
     ]
    }
   ],
   "source": [
    "print(\"The portion of bar coupons that were accepted are: \\033[1m\\033[3m\\033[4m\" + format(bar_df['Y'].value_counts()[1] / data.shape[0],\".2%\")+ '\\033[0m')\n"
   ]
  },
  {
   "cell_type": "markdown",
   "metadata": {},
   "source": [
    "3. Compare the acceptance rate between those who went to a bar 3 or fewer times a month to those who went more.\n"
   ]
  },
  {
   "cell_type": "markdown",
   "metadata": {},
   "source": []
  },
  {
   "cell_type": "code",
   "execution_count": 121,
   "metadata": {},
   "outputs": [
    {
     "name": "stdout",
     "output_type": "stream",
     "text": [
      "Group1 = 6019  Group2 = 858 Sample Size = 12079\n",
      "\n",
      "Acceptance rate of participents that went to a bar no more than three times are: \u001b[1m\u001b[3m\u001b[4m\n",
      "\t49.83%\u001b[0m\n",
      "\n",
      "Acceptance rate of participents that went to a bar more than three time are: \u001b[1m\u001b[3m\u001b[4m\n",
      "\t7.10%\u001b[0m\n",
      "\n",
      "The ratio between the participents who when to the bar no more than three time to the one who went more than three times is: \u001b[1m\n",
      "\t7.015\u001b[0m\n",
      "\n",
      "The acceptance rate of participents who when to the bar no more than three time is \u001b[1m\u001b[3m\u001b[4m'~7.02'\u001b[0m times than \n",
      "the participents that went to a bar more than three time.\n"
     ]
    }
   ],
   "source": [
    "\n",
    "# Group1 - Participents that went to a bar no more than three times, where the coupon accepted may or may not have been of type \"Bar\", are:\n",
    "xresult = data.query('Bar <= 3.0 & Y == 1').Bar.count();\n",
    "\n",
    "# Group2 - Participents that went to a bar more than three time are: \n",
    "yresult = data.query('Bar > 3.0 & Y == 1').Bar.count();\n",
    "\n",
    "# The ratio between the participents who when to the bar no more than three time to the one who went more than three times \n",
    "result = xresult/yresult;\n",
    "\n",
    "print( \"Group1 = \" + str(xresult) + \"  Group2 = \" + str(yresult) + \" Sample Size = \" + str(data.shape[0]))\n",
    "print(\"\\nAcceptance rate of participents that went to a bar no more than three times are: \\033[1m\\033[3m\\033[4m\\n\\t\" + format(xresult/data.shape[0], \".2%\")+ '\\033[0m')\n",
    "print(\"\\nAcceptance rate of participents that went to a bar more than three time are: \\033[1m\\033[3m\\033[4m\\n\\t\" + format(yresult/data.shape[0], \".2%\")+ '\\033[0m')\n",
    "print(\"\\nThe ratio between the participents who when to the bar no more than three time to the one who went more than three times is: \\033[1m\\n\\t\" + \\\n",
    "      format(result, \".4\")+ '\\033[0m')\n",
    "\n",
    "print(\"\\nThe acceptance rate of participents who when to the bar no more than three time is \\033[1m\\033[3m\\033[4m'~\"   + format(result, \".3\") + \"'\\033[0m times than \\n\\\n",
    "the participents that went to a bar more than three time.\")"
   ]
  },
  {
   "cell_type": "code",
   "execution_count": null,
   "metadata": {},
   "outputs": [],
   "source": []
  },
  {
   "cell_type": "markdown",
   "metadata": {},
   "source": []
  },
  {
   "cell_type": "markdown",
   "metadata": {},
   "source": [
    "4. Compare the acceptance rate between drivers who go to a bar more than once a month and are over the age of 25 to the all others.  Is there a difference?\n"
   ]
  },
  {
   "cell_type": "code",
   "execution_count": 123,
   "metadata": {},
   "outputs": [
    {
     "name": "stdout",
     "output_type": "stream",
     "text": [
      "Group1 = 1666  Group2 = 5211 Sample Size = 12079\n",
      "\n",
      "Acceptance rate of participents (drivers) over the age of twenty five who went to a bar more than once a month are:       \u001b[1m\u001b[3m\u001b[4m\n",
      "\t13.79%\u001b[0m\n",
      "\n",
      "Acceptance rate of all other participents: \u001b[1m\u001b[3m\u001b[4m\n",
      "\t43.14%\u001b[0m\n",
      "\n",
      "The ratio between drivers who go to a bar more than once a month and are over the age of 25 to the all others are: \u001b[1m\u001b[3m\u001b[4m\n",
      "\t0.3197\u001b[0m\n",
      "\n",
      "The acceptance rate of the participents (drivers) who go to a bar more than once a month and are over the age of 25 is \n",
      "about \u001b[1m\u001b[3m\u001b[4m'~3/10'\u001b[0m times to that of the others.\n"
     ]
    }
   ],
   "source": [
    "# Participents (drivers) over the age of twenty five who went to a bar more than once a month are:\n",
    "xresult = data.query('(Bar > 1.0) & (age > 25) & Y == 1').Bar.count() \n",
    "\n",
    "# Other participents:\n",
    "yresult = data.query('((Bar <= 1.0) or (age <= 25)) & Y == 1').Bar.count()\n",
    "\n",
    "# The ratio between drivers who go to a bar more than once a month and are over the age of 25 to the all others are:\n",
    "result = xresult / yresult;\n",
    "\n",
    "print( \"Group1 = \" + str(xresult) + \"  Group2 = \" + str(yresult) + \" Sample Size = \" + str(data.shape[0]))\n",
    "print(\"\\nAcceptance rate of participents (drivers) over the age of twenty five who went to a bar more than once a month are:\\\n",
    "       \\033[1m\\033[3m\\033[4m\\n\\t\" + format(xresult/data.shape[0],\".2%\")+ '\\033[0m')\n",
    "print(\"\\nAcceptance rate of all other participents: \\033[1m\\033[3m\\033[4m\\n\\t\" + format(yresult/data.shape[0],\".2%\")+ '\\033[0m')\n",
    "print(\"\\nThe ratio between drivers who go to a bar more than once a month and are over the age of 25 to the all others are: \\033[1m\\033[3m\\033[4m\\n\\t\" + \\\n",
    "      str(format(result, \".4\"))+ '\\033[0m')\n",
    "print(\"\\nThe acceptance rate of the participents (drivers) who go to a bar more than once a month and are over the age of 25 \\\n",
    "is \\nabout \\033[1m\\033[3m\\033[4m'~\" + str(Fraction(format(result,\"0.1\"))) + \"'\\033[0m times to that of the others.\")"
   ]
  },
  {
   "cell_type": "code",
   "execution_count": null,
   "metadata": {},
   "outputs": [],
   "source": []
  },
  {
   "cell_type": "markdown",
   "metadata": {},
   "source": [
    "5. Use the same process to compare the acceptance rate between drivers who go to bars more than once a month and had passengers that were not a kid and had occupations other than farming, fishing, or forestry. \n"
   ]
  },
  {
   "cell_type": "code",
   "execution_count": 124,
   "metadata": {},
   "outputs": [
    {
     "name": "stdout",
     "output_type": "stream",
     "text": [
      "Group1 = 2225  Group2 = 2339 Sample Size = 12079\n",
      "\n",
      "Acceptance rate of drivers who go to bars more than once a month and had passengers that were not a kid: \u001b[1m\u001b[3m\u001b[4m\n",
      "\t18.42%\u001b[0m\n",
      "\n",
      "Acceptance rate of drivers who go to bars more than once a month and had passengers that were not a kid \n",
      "and had occupations other than farming, fishing, or forestry: \u001b[1m\u001b[3m\u001b[4m\n",
      "\t19.36%\u001b[0m\n",
      "\n",
      "The ratio between the two: \u001b[1m\u001b[3m\u001b[4m\n",
      "\t0.9513\u001b[0m\n",
      "\n",
      "The acceptance rate of the participents (drivers) who go to bars more than once a month and had passengers \n",
      "that were not a kid is about \u001b[1m\u001b[3m\u001b[4m'~1'\u001b[0m times to that of drivers that had occupations other than farming, fishing, or forestry.\n"
     ]
    }
   ],
   "source": [
    "\n",
    "# Participants (drivers) who go to bars more than once a month and had passengers that were not a kid\n",
    "xresult = data.query('(Bar > 1.0) & (passanger != \"Kid\") & Y == 1').Bar.count()\n",
    "\n",
    "# Participents (drivers) who go to bars more than once a month and had occupations other than farming, fishing, or forestry:\n",
    "yresult = data.query('(Bar > 1.0) & (occupation != \"FarmFishForest\") & Y == 1').Bar.count()\n",
    "\n",
    "# The ratio:\n",
    "result = xresult / yresult;\n",
    "\n",
    "print( \"Group1 = \" + str(xresult) + \"  Group2 = \" + str(yresult) + \" Sample Size = \" + str(data.shape[0]))\n",
    "print(\"\\nAcceptance rate of drivers who go to bars more than once a month and had passengers that were not a kid: \\033[1m\\033[3m\\033[4m\\n\\t\" \\\n",
    "      + format(xresult/data.shape[0],\".2%\") + '\\033[0m')\n",
    "print(\"\\nAcceptance rate of drivers who go to bars more than once a month and had passengers that were not a kid \\n\\\n",
    "and had occupations other than farming, fishing, or forestry: \\033[1m\\033[3m\\033[4m\\n\\t\" + format(yresult/data.shape[0],\".2%\") + '\\033[0m')\n",
    "print(\"\\nThe ratio between the two: \\033[1m\\033[3m\\033[4m\\n\\t\" + format(result, \".4\") + '\\033[0m')\n",
    "\n",
    "print(\"\\nThe acceptance rate of the participents (drivers) who go to bars more than once a month and had passengers \\nthat were not a kid \\\n",
    "is about \\033[1m\\033[3m\\033[4m'\" + \"~\" + str(Fraction(format(result,\"0.1\"))) + \\\n",
    "\"'\\033[0m times to that of drivers that had occupations other than farming, fishing, or forestry.\")"
   ]
  },
  {
   "cell_type": "code",
   "execution_count": null,
   "metadata": {},
   "outputs": [],
   "source": []
  },
  {
   "cell_type": "markdown",
   "metadata": {},
   "source": [
    "6. Compare the acceptance rates between those drivers who:\n",
    "\n",
    "- go to bars more than once a month, had passengers that were not a kid, and were not widowed *OR*\n",
    "- go to bars more than once a month and are under the age of 30 *OR*\n",
    "- go to cheap restaurants more than 4 times a month and income is less than 50K. \n",
    "\n"
   ]
  },
  {
   "cell_type": "code",
   "execution_count": 126,
   "metadata": {},
   "outputs": [
    {
     "name": "stdout",
     "output_type": "stream",
     "text": [
      "Group1 = 2225\tGroup2 = 1364\tGroup3 = 1334\tSample Size = 12079\n",
      "\n",
      "The acceptance rate of the drivers who go to bars more than once a month, had passengers that were not a kid, and were not widowed: \u001b[1m\u001b[3m\u001b[4m\n",
      "\t18.42%\u001b[0m\n",
      "\n",
      "The acceptance rate of the drivers who go to bars more than once a month and are under the age of 30: \u001b[1m\u001b[3m\u001b[4m\n",
      "\t11.29%\u001b[0m\n",
      "\n",
      "The acceptance rate of the drivers who go to cheap restaurants more than 4 times a month and income is less than 50K: \u001b[1m\u001b[3m\u001b[4m\n",
      "\t11.04%\u001b[0m\n",
      "\n",
      "The acceptance rate of the drivers who go to bars more than once a month, had passengers that were not a kid, \n",
      "and were not widowed is about \u001b[1m\u001b[3m\u001b[4m'1.6'\u001b[0m times more to that of the drivers that go to bars more than once a month and are under the age of 30.\n",
      "\n",
      "The acceptance rate of the drivers who go to bars more than once a month, had passengers that were not a kid, and were not widowed \n",
      "is about \u001b[1m\u001b[3m\u001b[4m'1.7'\u001b[0m times more to that of drivers that go to cheap restaurants more than 4 times a month and income is less than 50.\n",
      "\n",
      "The acceptance rate of the drivers who go to bars more than once a month and are under the age of 30 is \u001b[1m\u001b[3m\u001b[4m'1.0'\u001b[0m time to that of drivers \n",
      "that go to cheap restaurants more than 4 times a month and income is less than 50.\n"
     ]
    }
   ],
   "source": [
    "\n",
    "# Drivers who \n",
    "# - go to bars more than once a month, had passengers that were not a kid, and were not widowed:\n",
    "xresult = data.query('(Bar > 1.0) & (passanger != \"Kid\") & (maritalStatus != \"Widowed\") & Y == 1').passanger.count()\n",
    "\n",
    "# - go to bars more than once a month and are under the age of 30 \n",
    "yresult = data.query('Bar > 1.0 & age < 30 & Y == 1').passanger.count()\n",
    " \n",
    "# - go to cheap restaurants more than 4 times a month and income is less than 50K.\n",
    "zresult = data.query('RestaurantLessThan20 > 4.0 & income < 50 & Y == 1' ).passanger.count()\n",
    "\n",
    "print( \"Group1 = \" + str(xresult) + \"\\tGroup2 = \" + str(yresult) + \"\\tGroup3 = \" + str(zresult)  + \"\\tSample Size = \" + str(data.shape[0]))\n",
    " \n",
    "print(\"\\nThe acceptance rate of the drivers who go to bars more than once a month, had passengers that were not a kid, and were not widowed: \\033[1m\\033[3m\\033[4m\\n\\t\" + format(xresult/data.shape[0],\".2%\")+'\\033[0m')\n",
    "print(\"\\nThe acceptance rate of the drivers who go to bars more than once a month and are under the age of 30: \\033[1m\\033[3m\\033[4m\\n\\t\" + format(yresult/data.shape[0],\".2%\")+'\\033[0m')\n",
    "print(\"\\nThe acceptance rate of the drivers who go to cheap restaurants more than 4 times a month and income is less than 50K: \\033[1m\\033[3m\\033[4m\\n\\t\" + format(zresult/data.shape[0],\".2%\") +'\\033[0m')\n",
    "\n",
    "print(\"\\nThe acceptance rate of the drivers who go to bars more than once a month, had passengers that were not a kid, \\nand were not widowed is about \\033[1m\\033[3m\\033[4m'\" + format(xresult/yresult, \".2\") + \\\n",
    "      \"'\\033[0m times more to that of the drivers that go to bars more than once a month and are under the age of 30.\")\n",
    "\n",
    "print(\"\\nThe acceptance rate of the drivers who go to bars more than once a month, had passengers that were not a kid, and were not widowed \\n\\\n",
    "is about \\033[1m\\033[3m\\033[4m'\" + format(xresult/zresult,\".2\") + \\\n",
    "      \"'\\033[0m times more to that of drivers that go to cheap restaurants more than 4 times a month and income is less than 50.\")\n",
    "\n",
    "print(\"\\nThe acceptance rate of the drivers who go to bars more than once a month and are under the age of 30 is \\033[1m\\033[3m\\033[4m'\" + format(yresult/zresult,\".2\") + \\\n",
    "      \"'\\033[0m time to that of drivers \\nthat go to cheap restaurants more than 4 times a month and income is less than 50.\")"
   ]
  },
  {
   "cell_type": "markdown",
   "metadata": {},
   "source": []
  },
  {
   "cell_type": "markdown",
   "metadata": {},
   "source": [
    "7.  Based on these observations, what do you hypothesize about drivers who accepted the bar coupons?"
   ]
  },
  {
   "cell_type": "markdown",
   "metadata": {},
   "source": [
    "My hypothesis is as follows:\n",
    "\n",
    "[Assumption:  the question is asking for hypothesis against section 6.]\n",
    "\n",
    "\n",
    "7.1 Definition\n",
    "    \n",
    "        a) Dependent variable: Drivers, who accepted bar coupons, go to bars more than once a month.\n",
    "    \n",
    "        b) Group 1 of population:  had passengers that were not a kid and were not widowed\n",
    "    \n",
    "        c) Group 2 of population:  are under the age of 30\n",
    "\n",
    "\n",
    "\n",
    "7.2 Statical Test - Two-proportions z test \n",
    "    \n",
    "        a) Proportion Group 1 (P1) - Drivers, who accepted bar coupons,  go to bars more than once a month, had passengers that were not a kid, and were not widowed.\n",
    "    \n",
    "        b) Proportion Group 2 (P2) - Drivers, who accepted bar coupons,  go to bars more than once a month and are under the age of 30\n",
    "\n",
    "\n",
    "7.3 Hypothesis:\n",
    "    \n",
    "        a) Null hypothesis (Ho) - (P1 EQUALS P2)\n",
    "    \n",
    "        d) Alternative hypothesis (Ha) - ((P1 NOT_EQUALS P2))\n",
    "\n",
    "\n",
    "\n",
    "7.4 Test:\n",
    "        Please see the following cells for the test/results.\n"
   ]
  },
  {
   "cell_type": "code",
   "execution_count": 128,
   "metadata": {},
   "outputs": [
    {
     "name": "stdout",
     "output_type": "stream",
     "text": [
      "P1_Hat: 0.184203990396556    P2_Hat: 0.11292325523636063\n",
      "P_Hat: 0.14856362281645832    Z: 15.575439910779073\n",
      "The null hypothesis (Ho) is rejected becasue Z value falls in the reject region.\n"
     ]
    }
   ],
   "source": [
    "# Hypothesis Test:\n",
    "alpha = 0.05\n",
    "Aleft = alpha + 0.95\n",
    "# X1 - Drivers who go to bars more than once a month, had passengers that were not a kid, and were not widowed:\n",
    "X1 = data.query('(Bar > 1.0) & (passanger != \"Kid\") & (maritalStatus != \"Widowed\") & Y == 1').passanger.count()\n",
    "# X2 - Drivers who go to bars more than once a month and are under the age of 30\n",
    "X2 = yresult = data.query('Bar > 1.0 & age < 30 & Y == 1').passanger.count()\n",
    "# Number of samples\n",
    "N = data.shape[0]\n",
    "\n",
    "P1_Hat = X1/N\n",
    "P2_Hat = X2/N\n",
    "\n",
    "# Sample size is much larger than 30, therefore use normal distribution.\n",
    "# Cumulative area up to the begining of the rejection area which starts at 0.025\n",
    "Al = alpha + 0.95\n",
    "\n",
    "# The critical Z values (separates the rejcetion regions from the fail to reject region) from the positive Z table (additing row and column values correspoinding to 0.975)\n",
    "Zc = 1.96\n",
    "\n",
    "# Calulate Z values; assume Null Hypothesis (p1 == p2, i.e., p1 - p2 == 0)\n",
    "P_Hat = (X1 + X2)/(N*2)\n",
    "Z = (P1_Hat - P2_Hat)/(np.sqrt((P_Hat*(1-P_Hat))*(2/N)))\n",
    "\n",
    "\n",
    "print( \"P1_Hat: \" + str(P1_Hat) + \"    P2_Hat: \" + str(P2_Hat))\n",
    "print( \"P_Hat: \" + str(P_Hat) + \"    Z: \" + str(Z))\n",
    "\n",
    "if np.absolute(Z) > Zc:\n",
    "    print(\"The null hypothesis (Ho) is rejected becasue Z value falls in the reject region.\")\n",
    "else:\n",
    "    print(\"The null hypothesis (Ho) is is accepted.\")\n",
    "\n",
    "\n"
   ]
  },
  {
   "cell_type": "markdown",
   "metadata": {},
   "source": [
    "7.5 Results:\n",
    "        \n",
    "        Per the output, the null hypothesis (Ho) is rejected and alternative hypothesis (Ha) is accepted. The ration between Group 1 and Group 2 is ~1.6, Group 1 is 1.6 times more likely to go to bars more than once a month.\n",
    "        \n",
    "        Note: For description of Groups, please see notes in cells above.  \n"
   ]
  },
  {
   "cell_type": "markdown",
   "metadata": {},
   "source": []
  },
  {
   "cell_type": "markdown",
   "metadata": {},
   "source": []
  },
  {
   "cell_type": "markdown",
   "metadata": {},
   "source": [
    "### Independent Investigation\n",
    "\n",
    "Using the bar coupon example as motivation, you are to explore one of the other coupon groups and try to determine the characteristics of passengers who accept the coupons.  "
   ]
  },
  {
   "cell_type": "code",
   "execution_count": null,
   "metadata": {},
   "outputs": [],
   "source": []
  },
  {
   "cell_type": "code",
   "execution_count": null,
   "metadata": {},
   "outputs": [],
   "source": []
  },
  {
   "cell_type": "code",
   "execution_count": null,
   "metadata": {},
   "outputs": [],
   "source": []
  },
  {
   "cell_type": "code",
   "execution_count": null,
   "metadata": {},
   "outputs": [],
   "source": []
  },
  {
   "cell_type": "code",
   "execution_count": null,
   "metadata": {},
   "outputs": [],
   "source": []
  }
 ],
 "metadata": {
  "kernelspec": {
   "display_name": "Python 3",
   "language": "python",
   "name": "python3"
  },
  "language_info": {
   "codemirror_mode": {
    "name": "ipython",
    "version": 3
   },
   "file_extension": ".py",
   "mimetype": "text/x-python",
   "name": "python",
   "nbconvert_exporter": "python",
   "pygments_lexer": "ipython3",
   "version": "3.12.1"
  },
  "widgets": {
   "application/vnd.jupyter.widget-state+json": {
    "state": {},
    "version_major": 2,
    "version_minor": 0
   }
  }
 },
 "nbformat": 4,
 "nbformat_minor": 4
}
